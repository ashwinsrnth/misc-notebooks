{
 "metadata": {
  "name": ""
 },
 "nbformat": 3,
 "nbformat_minor": 0,
 "worksheets": [
  {
   "cells": [
    {
     "cell_type": "markdown",
     "metadata": {},
     "source": [
      "# Property evaluation on arrays: NumPy vs Cython"
     ]
    },
    {
     "cell_type": "code",
     "collapsed": false,
     "input": [
      "import numpy as np\n",
      "\n",
      "def NitrogenSpHeatModel(T):\n",
      "    # should be DRY:\n",
      "    molecular_wt = 28.013\n",
      "    if T < 298.0:\n",
      "        coeffs = [31.15e3, -13.57, 26.8e-3, -11.68e-6]\n",
      "        cp0 = np.dot(coeffs[:4], np.array([1.0, T, T**2, T**3]))/molecular_wt\n",
      "    else:\n",
      "        coeffs = [26.09e3, 8.2188801, -1.976141e-3, 0.159274e-6, 0.044344e9, -7.98923e6, 0.0]\n",
      "        cp0 = np.dot(coeffs[:5], np.array([1.0, T, T**2, T**3, 1./(T**2)]))/molecular_wt\n",
      "    return cp0\n",
      "\n",
      "NitrogenSpHeatModel = np.vectorize(NitrogenSpHeatModel)"
     ],
     "language": "python",
     "metadata": {},
     "outputs": [],
     "prompt_number": 59
    },
    {
     "cell_type": "code",
     "collapsed": false,
     "input": [
      "%load_ext cythonmagic"
     ],
     "language": "python",
     "metadata": {},
     "outputs": [
      {
       "output_type": "stream",
       "stream": "stdout",
       "text": [
        "The cythonmagic extension is already loaded. To reload it, use:\n",
        "  %reload_ext cythonmagic\n"
       ]
      }
     ],
     "prompt_number": 60
    },
    {
     "cell_type": "code",
     "collapsed": false,
     "input": [
      "%%cython\n",
      "cimport cython\n",
      "def NitrogenSpHeatModelCython(double[:,:,:] T, double[:,:,:] cp0):\n",
      "    molecular_wt = 28.013\n",
      "    I = T.shape[0]\n",
      "    J = T.shape[1]\n",
      "    K = T.shape[2]\n",
      "    for i in range(I):\n",
      "        for j in range(J):\n",
      "            for k in range(K):\n",
      "                if T[i,j,k] < 298.0:\n",
      "                    coeffs = [31.15e3, -13.57, 26.8e-3, -11.68e-6]\n",
      "                    cp0[i,j,k] = (coeffs[0]*1.0 + coeffs[1]*T[i,j,k] +\n",
      "                                    coeffs[2]*T[i,j,k]**2 + coeffs[3]*T[i,j,k]**3)/molecular_wt\n",
      "                else:\n",
      "                    coeffs = [26.09e3, 8.2188801, -1.976141e-3, 0.159274e-6, 0.044344e9, -7.98923e6, 0.0]\n",
      "                    cp0[i,j,k] = (coeffs[0]*1.0 + coeffs[1]*T[i,j,k] + coeffs[2]*T[i,j,k]**2 +\n",
      "                                    coeffs[3]*T[i,j,k]**3 + \n",
      "                                        coeffs[4]/(T[i,j,k]**2))/molecular_wt\n",
      "    return cp0"
     ],
     "language": "python",
     "metadata": {},
     "outputs": [],
     "prompt_number": 61
    },
    {
     "cell_type": "code",
     "collapsed": false,
     "input": [
      "T = np.random.randn(40,40,40)\n",
      "cp0c = np.empty_like(T)"
     ],
     "language": "python",
     "metadata": {},
     "outputs": [],
     "prompt_number": 64
    },
    {
     "cell_type": "code",
     "collapsed": false,
     "input": [
      "%%timeit\n",
      "NitrogenSpHeatModelCython(T, cp0c)"
     ],
     "language": "python",
     "metadata": {},
     "outputs": [
      {
       "output_type": "stream",
       "stream": "stdout",
       "text": [
        "10 loops, best of 3: 42.2 ms per loop\n"
       ]
      }
     ],
     "prompt_number": 68
    },
    {
     "cell_type": "code",
     "collapsed": false,
     "input": [
      "%%timeit\n",
      "cp0p = NitrogenSpHeatModel(T)"
     ],
     "language": "python",
     "metadata": {},
     "outputs": [
      {
       "output_type": "stream",
       "stream": "stdout",
       "text": [
        "1 loops, best of 3: 547 ms per loop\n"
       ]
      }
     ],
     "prompt_number": 69
    },
    {
     "cell_type": "code",
     "collapsed": false,
     "input": [
      "from numpy.testing import *\n",
      "NitrogenSpHeatModelCython(T, cp0c)\n",
      "cp0p = NitrogenSpHeatModel(T)\n",
      "assert_allclose(cp0c, cp0p)"
     ],
     "language": "python",
     "metadata": {},
     "outputs": [],
     "prompt_number": 71
    }
   ],
   "metadata": {}
  }
 ]
}