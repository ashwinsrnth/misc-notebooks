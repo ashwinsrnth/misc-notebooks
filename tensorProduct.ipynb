{
 "metadata": {
  "name": ""
 },
 "nbformat": 3,
 "nbformat_minor": 0,
 "worksheets": [
  {
   "cells": [
    {
     "cell_type": "markdown",
     "metadata": {},
     "source": [
      "# Tensor Multiplication with NumPy and PyCUDA"
     ]
    },
    {
     "cell_type": "markdown",
     "metadata": {},
     "source": [
      "In this Notebook, we want to compare the use of NumPy and PyCUDA to compute a simple tensor product between two tensors, sized (16, N, N, N) and (16, 1), where N is some large-ish number. A product-sum is required performed over the first dimensions of each of these tensors."
     ]
    },
    {
     "cell_type": "code",
     "collapsed": false,
     "input": [
      "from pycuda import autoinit\n",
      "import pycuda.driver as cuda\n",
      "import pycuda.gpuarray as gpuarray\n",
      "import numpy as np"
     ],
     "language": "python",
     "metadata": {},
     "outputs": [],
     "prompt_number": 4
    },
    {
     "cell_type": "code",
     "collapsed": false,
     "input": [
      "# create some large arrays:\n",
      "sz = 100\n",
      "x = np.random.rand(64, sz, sz, sz)\n",
      "M = np.random.rand(64)"
     ],
     "language": "python",
     "metadata": {},
     "outputs": [],
     "prompt_number": 5
    },
    {
     "cell_type": "markdown",
     "metadata": {},
     "source": [
      "## NumPy:"
     ]
    },
    {
     "cell_type": "code",
     "collapsed": false,
     "input": [
      "%%timeit -n 5 -r 5\n",
      "result_tensordot = np.tensordot(x.T, M[:,None,None,None], axes=1).T"
     ],
     "language": "python",
     "metadata": {},
     "outputs": [
      {
       "output_type": "stream",
       "stream": "stdout",
       "text": [
        "5 loops, best of 5: 1.18 s per loop\n"
       ]
      }
     ],
     "prompt_number": 6
    },
    {
     "cell_type": "code",
     "collapsed": false,
     "input": [
      "%%timeit -n 5 -r 5\n",
      "result_dot = np.dot(x.T,M[None,None,:,None]).T"
     ],
     "language": "python",
     "metadata": {},
     "outputs": [
      {
       "output_type": "stream",
       "stream": "stdout",
       "text": [
        "5 loops, best of 5: 859 ms per loop\n"
       ]
      }
     ],
     "prompt_number": 7
    },
    {
     "cell_type": "code",
     "collapsed": false,
     "input": [
      "%%timeit -n 5 -r 5\n",
      "result_einsum = np.einsum('ijkl,i', x, M)"
     ],
     "language": "python",
     "metadata": {},
     "outputs": [
      {
       "output_type": "stream",
       "stream": "stdout",
       "text": [
        "5 loops, best of 5: 83.2 ms per loop\n"
       ]
      }
     ],
     "prompt_number": 8
    },
    {
     "cell_type": "markdown",
     "metadata": {},
     "source": [
      "## PyCUDA"
     ]
    },
    {
     "cell_type": "code",
     "collapsed": false,
     "input": [
      "# cuda kernel that computes the product:\n",
      "from pycuda.compiler import SourceModule\n",
      "mod = SourceModule(\"\"\"\n",
      "        __global__ void tensorProduct(double* x, double* M, int sz, double* out){\n",
      "        /*\n",
      "            x is sized (64, sz, sz, sz)\n",
      "            M is sized (64, 1)\n",
      "        */\n",
      "        int blockId = blockIdx.x \n",
      "             + blockIdx.y * gridDim.x\n",
      "             + gridDim.x * gridDim.y * blockIdx.z;\n",
      "\n",
      "        int threadId = blockId * (blockDim.x * blockDim.y * blockDim.z)\n",
      "              + (threadIdx.z * (blockDim.x * blockDim.y))\n",
      "              + (threadIdx.y * blockDim.x)\n",
      "              + threadIdx.x;\n",
      "        \n",
      "        int stride = sz*sz*sz;\n",
      "        out[threadId] = 0;\n",
      "        \n",
      "        for (int i = 0; i < 64; i++){\n",
      "            out[threadId] += x[threadId+i*stride]*M[i];\n",
      "        }\n",
      "        __syncthreads();\n",
      "        \n",
      "        }\n",
      "        \"\"\")"
     ],
     "language": "python",
     "metadata": {},
     "outputs": [],
     "prompt_number": 9
    },
    {
     "cell_type": "code",
     "collapsed": false,
     "input": [
      "x_gpu = gpuarray.to_gpu(x)\n",
      "M_gpu = gpuarray.to_gpu(M)\n",
      "out_gpu = gpuarray.empty((100, 100, 100), dtype=np.float64)\n",
      "tproduct = mod.get_function('tensorProduct')"
     ],
     "language": "python",
     "metadata": {},
     "outputs": [],
     "prompt_number": 10
    },
    {
     "cell_type": "code",
     "collapsed": false,
     "input": [
      "start = cuda.Event()\n",
      "end = cuda.Event()\n",
      "start.record()\n",
      "for i in xrange(100):\n",
      "    tproduct(x_gpu, M_gpu, np.intc(100), out_gpu, grid=(10,10,10), block=(10,10,10))\n",
      "end.record()\n",
      "end.synchronize()\n",
      "print start.time_till(end)/100.0, 'ms'"
     ],
     "language": "python",
     "metadata": {},
     "outputs": [
      {
       "output_type": "stream",
       "stream": "stdout",
       "text": [
        "7.30272521973 ms\n"
       ]
      }
     ],
     "prompt_number": 11
    },
    {
     "cell_type": "markdown",
     "metadata": {},
     "source": [
      "## Theano"
     ]
    },
    {
     "cell_type": "code",
     "collapsed": false,
     "input": [
      "# did it work?\n",
      "from numpy.testing import *\n",
      "result_einsum = np.einsum('ijkl,i', x, M)\n",
      "assert_almost_equal(out_gpu.get(), result_einsum)"
     ],
     "language": "python",
     "metadata": {},
     "outputs": [],
     "prompt_number": 12
    },
    {
     "cell_type": "code",
     "collapsed": false,
     "input": [
      "from theano import function, shared\n",
      "import theano.tensor as tensor\n",
      "import numpy as np\n",
      "\n",
      "x_theano = shared(x)\n",
      "M_theano = shared(M)\n",
      "f = function([], tensor.tensordot(x_theano, M_theano, axes=[0,0]))"
     ],
     "language": "python",
     "metadata": {},
     "outputs": [],
     "prompt_number": 36
    },
    {
     "cell_type": "code",
     "collapsed": false,
     "input": [
      "import time\n",
      "t1 = time.time()\n",
      "out_theano = f()\n",
      "t2 = time.time()\n",
      "print t2-t1, ' ms'"
     ],
     "language": "python",
     "metadata": {},
     "outputs": [
      {
       "output_type": "stream",
       "stream": "stdout",
       "text": [
        "0.00838112831116  ms\n"
       ]
      }
     ],
     "prompt_number": 37
    },
    {
     "cell_type": "code",
     "collapsed": false,
     "input": [
      "# did it work?\n",
      "out_theano = f()\n",
      "assert_almost_equal(out_theano, result_einsum)"
     ],
     "language": "python",
     "metadata": {},
     "outputs": [],
     "prompt_number": 38
    },
    {
     "cell_type": "markdown",
     "metadata": {},
     "source": [
      "# Theano, optimized"
     ]
    },
    {
     "cell_type": "code",
     "collapsed": false,
     "input": [
      "from theano import sandbox\n",
      "f = function([], sandbox.gpuarray.basic_ops.gpu_from_host(tensor.tensordot(x_theano, M_theano, axes=[0,0])))"
     ],
     "language": "python",
     "metadata": {},
     "outputs": [],
     "prompt_number": 39
    },
    {
     "cell_type": "code",
     "collapsed": false,
     "input": [
      "import time\n",
      "t1 = time.time()\n",
      "out_theano_optimized = f()\n",
      "t2 = time.time()\n",
      "print t2-t1, ' ms'"
     ],
     "language": "python",
     "metadata": {},
     "outputs": [
      {
       "output_type": "stream",
       "stream": "stdout",
       "text": [
        "0.00475692749023  ms\n"
       ]
      }
     ],
     "prompt_number": 40
    },
    {
     "cell_type": "code",
     "collapsed": false,
     "input": [
      " "
     ],
     "language": "python",
     "metadata": {},
     "outputs": []
    }
   ],
   "metadata": {}
  }
 ]
}